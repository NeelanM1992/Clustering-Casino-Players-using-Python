{
 "cells": [
  {
   "cell_type": "code",
   "execution_count": null,
   "metadata": {},
   "outputs": [],
   "source": [
    "import pandas as pd\n",
    "import numpy as np\n",
    "\n",
    "import matplotlib as mpl\n",
    "import matplotlib.pyplot as plt\n",
    "from mpl_toolkits.mplot3d import Axes3D\n",
    "import seaborn as sns \n",
    "\n",
    "from sklearn.metrics import silhouette_score, silhouette_samples\n",
    "import sklearn.metrics\n",
    "from sklearn.preprocessing import StandardScaler\n",
    "from sklearn.cluster import AgglomerativeClustering\n",
    "from sklearn.mixture import GaussianMixture\n",
    "\n",
    "import itertools\n",
    "\n",
    "import scipy\n",
    "\n",
    "#import sys\n",
    "#!{sys.executable} -m pip install pandas-profiling\n",
    "import pandas_profiling\n",
    "#from yellowbrick.cluster import SilhouetteVisualizer, InterclusterDistance, KElbowVisualizer\n",
    "\n",
    "#from kmodes.kmodes import KModes\n",
    "\n",
    "from IPython.core.interactiveshell import InteractiveShell\n",
    "InteractiveShell.ast_node_interactivity = \"all\"\n",
    "\n",
    "# This will ensure that matplotlib figures don't get cut off when saving with savefig()\n",
    "from matplotlib import rcParams\n",
    "rcParams.update({'figure.autolayout': True})"
   ]
  },
  {
   "cell_type": "markdown",
   "metadata": {},
   "source": [
    "# Reading Data and Viewing Data"
   ]
  },
  {
   "cell_type": "code",
   "execution_count": null,
   "metadata": {},
   "outputs": [],
   "source": [
    "data = pd.read_csv(\"Clustering Casino Players.csv\")\n",
    "data.head(5)"
   ]
  },
  {
   "cell_type": "code",
   "execution_count": null,
   "metadata": {},
   "outputs": [],
   "source": [
    "# Using Pandas profiling to view all the data\n",
    "#pandas_profiling.ProfileReport(data)"
   ]
  },
  {
   "cell_type": "markdown",
   "metadata": {},
   "source": [
    "# CLEANING DATA"
   ]
  },
  {
   "cell_type": "markdown",
   "metadata": {},
   "source": [
    "## Part 1 - Replacing/Imputing missing data"
   ]
  },
  {
   "cell_type": "code",
   "execution_count": null,
   "metadata": {},
   "outputs": [],
   "source": [
    "#Part 1 replacing/imputing missing data\n",
    "pd.DataFrame(data).isna().sum() # Lets check if we have any missing data -- the result shows that yes, and a lot\n",
    "\n",
    "from sklearn.impute import SimpleImputer\n",
    "# Approach:\n",
    "# Categorical features: adding new category 'missing_value' (as if this is a new color, or gender)\n",
    "# Numerical features: replacing with a median (or mean, or most frequent value, etc.) An alternative approach is to imputate, see here: https://scikit-learn.org/stable/modules/impute.html \n",
    "# + we add surrogate columns indicating that the value is imputed\n",
    "\n",
    "# creating surrogates\n",
    "for col in data:\n",
    "    if data[col].isna().sum() != 0: \n",
    "        data[col + '_surrogate'] = data[col].isna().astype(int)\n",
    "\n",
    "\n",
    "# fixing categoricals\n",
    "imputer = SimpleImputer(missing_values = np.nan, strategy='constant')\n",
    "imputer.fit(data.select_dtypes(exclude=['int64','float64']))\n",
    "data[data.select_dtypes(exclude=['int64','float64']).columns] = imputer.transform(data.select_dtypes(exclude=['int64','float64']))\n",
    "           \n",
    "# fixing numericals \n",
    "imputer = SimpleImputer(missing_values = np.nan, strategy='median')\n",
    "imputer.fit(data.select_dtypes(include=['int64','float64']))\n",
    "data[data.select_dtypes(include=['int64','float64']).columns] = imputer.transform(data.select_dtypes(include=['int64','float64']))\n",
    "\n",
    "data.head(5)"
   ]
  },
  {
   "cell_type": "markdown",
   "metadata": {},
   "source": [
    "## Part 2 - Combining categories into \"other\""
   ]
  },
  {
   "cell_type": "code",
   "execution_count": null,
   "metadata": {},
   "outputs": [],
   "source": [
    "#Looking at all the rare categories within the City feature\n",
    "#City feature has the highest number of level\n",
    "df=data.copy()\n",
    "df['City'].value_counts()"
   ]
  },
  {
   "cell_type": "code",
   "execution_count": null,
   "metadata": {},
   "outputs": [],
   "source": [
    "#Part 2 for cleaning data - combining categories into \"other\"\n",
    "\n",
    "threshold_percent = 0.27\n",
    "series = pd.value_counts(df['City'])\n",
    "mask = (series / series.sum() * 100).lt(threshold_percent)\n",
    "df = df.assign(City = np.where(df['City'].isin(series[mask].index),'Other_city', df['City']))\n",
    "\n",
    "df['City'].value_counts()"
   ]
  },
  {
   "cell_type": "code",
   "execution_count": null,
   "metadata": {},
   "outputs": [],
   "source": [
    "df=df.drop(['ID','Site','Age'],axis=1)\n",
    "df.head(5)"
   ]
  },
  {
   "cell_type": "markdown",
   "metadata": {},
   "source": [
    "# Ratio Calculation"
   ]
  },
  {
   "cell_type": "code",
   "execution_count": null,
   "metadata": {},
   "outputs": [],
   "source": [
    "#Building features - Ratios\n",
    "\n",
    "df['one_month_theo_NW']=data['One_Month_Theo_NW']/data['Twelve_Month_Theo_NW']\n",
    "df['three_month_theo_NW']=data['Three_Month_Theo_NW']/data['Twelve_Month_Theo_NW']\n",
    "df['six_month_theo_NW']=data['Six_Month_Theo_NW']/data['Twelve_Month_Theo_NW']\n",
    "\n",
    "df['one_month_act_NW']=data['One_Month_Actual_NW']/data['Twelve_Month_Actual_NW']\n",
    "df['three_month_act_NW']=data['Three_Month_Actual_NW']/data['Twelve_Month_Actual_NW']\n",
    "df['six_month_act_NW']=data['Six_Month_Actual_NW']/data['Twelve_Month_Actual_NW']\n",
    "\n",
    "df['one_month_trips']=data['One_Month_Trips']/data['Twelve_Month_Trips']\n",
    "df['three_month_trips']=data['Three_Month_Trips']/data['Twelve_Month_Trips']\n",
    "df['six_month_trips']=data['Six_Month_Trips']/data['Twelve_Month_Trips']\n",
    "\n",
    "df.head(5)"
   ]
  },
  {
   "cell_type": "markdown",
   "metadata": {},
   "source": [
    "# Scaling"
   ]
  },
  {
   "cell_type": "code",
   "execution_count": null,
   "metadata": {},
   "outputs": [],
   "source": [
    "n_features = df.shape[1]\n",
    "\n",
    "#separating categirical and numerical variables\n",
    "cat_col_names = list(df.select_dtypes(include=np.object).columns)\n",
    "num_col_names = list(df.select_dtypes(include=np.number).columns)\n",
    "\n",
    "X_num = df[num_col_names].to_numpy()\n",
    "X_cat = df[cat_col_names].to_numpy()\n",
    "\n",
    "#Scaling only the numerical variables\n",
    "scaler = StandardScaler()\n",
    "X_num = scaler.fit_transform(X_num)\n",
    "\n",
    "X = np.concatenate((X_num, X_cat), axis=1)\n",
    "X"
   ]
  },
  {
   "cell_type": "markdown",
   "metadata": {},
   "source": [
    "# Heirarchial"
   ]
  },
  {
   "cell_type": "code",
   "execution_count": null,
   "metadata": {},
   "outputs": [],
   "source": [
    "#Defining a custom distance function for the heirarchial model to deal with categorical and numerical data\n",
    "from scipy.spatial import distance\n",
    "\n",
    "def custom_dist(x1, x2, cat_cols=None, num_cols=None):\n",
    "   \n",
    "    n = len(x1)\n",
    "\n",
    "    dist_num = distance.euclidean(x1[num_cols], x2[num_cols])\n",
    "    dist_cat = distance.hamming(x1[cat_cols], x2[cat_cols])\n",
    "    \n",
    "    dist = (dist_num*sum(num_cols) + dist_cat*sum(cat_cols)) / n\n",
    "    \n",
    "    return dist"
   ]
  },
  {
   "cell_type": "code",
   "execution_count": null,
   "metadata": {},
   "outputs": [],
   "source": [
    "#Creating a custom distance matrix across all columns\n",
    "from scipy.spatial.distance import pdist\n",
    "\n",
    "cat_cols = [type(x)==str for x in X[1,:]]\n",
    "num_cols = [not x for x in cat_cols]\n",
    "\n",
    "Y = pdist(X, custom_dist, cat_cols=cat_cols, num_cols=num_cols)"
   ]
  },
  {
   "cell_type": "code",
   "execution_count": null,
   "metadata": {},
   "outputs": [],
   "source": [
    "# Perform hierarchical clustering, using our custom-built distance matrix.\n",
    "import scipy.cluster\n",
    "\n",
    "aggl = scipy.cluster.hierarchy.linkage(Y, method='ward')"
   ]
  },
  {
   "cell_type": "code",
   "execution_count": null,
   "metadata": {},
   "outputs": [],
   "source": [
    "#Plotting the Dendogram\n",
    "plt.figure(figsize=(16, 10));\n",
    "plt.grid(False)\n",
    "dend = scipy.cluster.hierarchy.dendrogram(aggl);"
   ]
  },
  {
   "cell_type": "code",
   "execution_count": null,
   "metadata": {},
   "outputs": [],
   "source": [
    "#Using k-modes we dervied k=5 for clustering\n",
    "K=7\n",
    "labels = scipy.cluster.hierarchy.fcluster(aggl, K, criterion=\"maxclust\")"
   ]
  },
  {
   "cell_type": "code",
   "execution_count": null,
   "metadata": {
    "scrolled": false
   },
   "outputs": [],
   "source": [
    "#Viewing each cluster and its statistics\n",
    "\n",
    "from scipy import stats\n",
    "import seaborn as sns\n",
    "\n",
    "pd.set_option(\"display.precision\", 2)\n",
    "pd.set_option('display.float_format', lambda x: '%.2f' % x)\n",
    "\n",
    "print('All Data:')\n",
    "print('Number of Instances: {}'.format(X.shape[0]))\n",
    "df.describe(include=[np.number]).transpose()\n",
    "df.describe(include=[np.object]).transpose()\n",
    "\n",
    "for col in cat_col_names:\n",
    "    df[col].value_counts()\n",
    "\n",
    "for i, label in enumerate(set(labels)):\n",
    "    n = df.iloc[labels==label].shape[0]\n",
    "          \n",
    "    print('\\nCluster {}:'.format(label))\n",
    "    print('Number of Instances: {}'.format(n))\n",
    "\n",
    "    df.iloc[labels==label].describe(include=[np.number]).transpose()\n",
    "    df.iloc[labels==label].describe(include=[np.object]).transpose()\n",
    "    \n",
    "    for col in cat_col_names:\n",
    "        df.iloc[labels==label][col].value_counts()"
   ]
  },
  {
   "cell_type": "code",
   "execution_count": null,
   "metadata": {},
   "outputs": [],
   "source": [
    "X_tmp=df.copy()\n",
    "X_tmp['Cluster ID']=labels\n",
    "X_tmp"
   ]
  },
  {
   "cell_type": "code",
   "execution_count": null,
   "metadata": {},
   "outputs": [],
   "source": [
    "X_tmp.to_csv(\"ClusterID.csv\")"
   ]
  }
 ],
 "metadata": {
  "kernelspec": {
   "display_name": "Python 3",
   "language": "python",
   "name": "python3"
  },
  "language_info": {
   "codemirror_mode": {
    "name": "ipython",
    "version": 3
   },
   "file_extension": ".py",
   "mimetype": "text/x-python",
   "name": "python",
   "nbconvert_exporter": "python",
   "pygments_lexer": "ipython3",
   "version": "3.7.4"
  }
 },
 "nbformat": 4,
 "nbformat_minor": 4
}
